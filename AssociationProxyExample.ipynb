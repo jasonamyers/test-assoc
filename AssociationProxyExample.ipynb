{
 "cells": [
  {
   "cell_type": "code",
   "execution_count": 1,
   "metadata": {
    "collapsed": true
   },
   "outputs": [],
   "source": [
    "from datetime import datetime\n",
    "from sqlalchemy import (Column, Integer, Numeric, String, Table,\n",
    "                        ForeignKey, create_engine, Date) \n",
    "from sqlalchemy.orm import relationship\n",
    "from sqlalchemy.ext.declarative import declarative_base \n",
    "from sqlalchemy.orm import sessionmaker\n",
    "\n",
    "engine = create_engine('sqlite:///:memory:')\n",
    "Base = declarative_base()\n",
    "Session = sessionmaker(bind=engine)"
   ]
  },
  {
   "cell_type": "code",
   "execution_count": 2,
   "metadata": {
    "collapsed": true
   },
   "outputs": [],
   "source": [
    "usersfacilitydepartments_table = Table('usersfacilitydepartments', \n",
    "                                       Base.metadata,\n",
    "                                       Column('user_id', Integer, ForeignKey('users.user_id'), primary_key=True),\n",
    "                                       Column('fd_id', Integer, ForeignKey('facility_departments.fd_id'), primary_key=True)\n",
    "                                      )\n",
    "userscommittees_table = Table('userscommittees', \n",
    "                               Base.metadata,\n",
    "                               Column('user_id', Integer, ForeignKey('users.user_id'), primary_key=True),\n",
    "                               Column('committee_id', Integer, ForeignKey('committees.committee_id'), primary_key=True)\n",
    "                              )"
   ]
  },
  {
   "cell_type": "code",
   "execution_count": 3,
   "metadata": {
    "collapsed": false
   },
   "outputs": [],
   "source": [
    "class User(Base):\n",
    "    __tablename__ = 'users'\n",
    "    \n",
    "    user_id = Column(Integer, primary_key=True)\n",
    "    name = Column(String(255), index=True)\n",
    "    start_date = Column(Date)\n",
    "    obsolete_date = Column(Date)\n",
    "    fd = relationship('FacilityDepartment', \n",
    "                      secondary=usersfacilitydepartments_table,\n",
    "#                       primaryjoin=user_id==usersfacilitydepartments_table.c.user_id,\n",
    "#                       secondaryjoin='FacilityDepartment.fd_id'==usersfacilitydepartments_table.c.fd_id,\n",
    "                      backref='users')\n",
    "    coms = relationship('Committee', \n",
    "                        secondary=userscommittees_table,\n",
    "#                         primaryjoin=user_id==userscommittees_table.c.user_id,\n",
    "                        backref='users')"
   ]
  },
  {
   "cell_type": "code",
   "execution_count": 4,
   "metadata": {
    "collapsed": false
   },
   "outputs": [],
   "source": [
    "class FacilityDepartment(Base):\n",
    "    __tablename__ = 'facility_departments'\n",
    "    \n",
    "    fd_id = Column(Integer, primary_key=True)\n",
    "    facility_name = Column(String(255))\n",
    "    department_name = Column(String(255))\n",
    "    start_date = Column(Date)\n",
    "    obsolete_date = Column(Date)\n",
    "    \n",
    "#     fd = relationship('User', \n",
    "#                       secondary=usersfacilitydepartments_table,\n",
    "#                       primaryjoin=user_id==usersfacilitydepartments_table.c.user_id,\n",
    "#                       secondaryjoin=fd_id==usersfacilitydepartments_table.c.fd_id)\n"
   ]
  },
  {
   "cell_type": "code",
   "execution_count": 5,
   "metadata": {
    "collapsed": true
   },
   "outputs": [],
   "source": [
    "class Committee(Base):\n",
    "    __tablename__ = 'committees'\n",
    "    \n",
    "    committee_id = Column(Integer, primary_key=True)\n",
    "    name = Column(String(255))\n",
    "    start_date = Column(Date)\n",
    "    obsolete_date = Column(Date)\n"
   ]
  },
  {
   "cell_type": "code",
   "execution_count": 6,
   "metadata": {
    "collapsed": true
   },
   "outputs": [],
   "source": [
    "Base.metadata.create_all(engine)\n",
    "session = Session()"
   ]
  },
  {
   "cell_type": "code",
   "execution_count": 7,
   "metadata": {
    "collapsed": false
   },
   "outputs": [],
   "source": [
    "from datetime import date\n",
    "import random\n",
    "start_date = date.today().replace(day=1, month=1).toordinal()\n",
    "end_date = date.today().toordinal()\n",
    "\n",
    "facilities = {'LA': ['Bakery', 'Dough Factory'],\n",
    "              'NYC': ['Store', 'Online'],\n",
    "              'BOS': ['Bakery', 'Dough Factory'],\n",
    "              'BNA': ['Store', 'Online'],\n",
    "             }\n",
    "\n",
    "for x in xrange(20):\n",
    "    random_day = date.fromordinal(random.randint(start_date, end_date))\n",
    "    random_choice = random.choice(facilities.keys())\n",
    "    for department in facilities[random_choice]:\n",
    "        fd = FacilityDepartment(facility_name=random_choice, \n",
    "                                department_name=department,\n",
    "                                start_date=date.fromordinal(start_date),\n",
    "                                obsolete_date=random_day)\n",
    "        session.add(fd)\n",
    "session.commit()"
   ]
  },
  {
   "cell_type": "code",
   "execution_count": 8,
   "metadata": {
    "collapsed": false
   },
   "outputs": [],
   "source": [
    "committees = ['Agriculture', 'Appropriations', 'Armed Services', 'Budget']\n",
    "for committee in committees:\n",
    "    random_day = date.fromordinal(random.randint(start_date, end_date))\n",
    "    com = Committee(name=committee, \n",
    "                    start_date=date.fromordinal(start_date),\n",
    "                    obsolete_date=random_day\n",
    "                   )\n",
    "    session.add(com)\n",
    "session.commit()"
   ]
  },
  {
   "cell_type": "code",
   "execution_count": 9,
   "metadata": {
    "collapsed": true
   },
   "outputs": [],
   "source": [
    "names = ['George Washington', 'John Adams', 'Thomas Jefferson', \n",
    "         'James Madison', 'James Monroe', 'John Quincy Adams', \n",
    "         'Andrew Jackson', 'Martin Van Buren', 'William Henry Harrison',\n",
    "         'John Tyler', 'James Knox Polk', 'Zachary Taylor']\n",
    "for name in names:\n",
    "    random_day = date.fromordinal(random.randint(start_date, end_date))\n",
    "    user = User(name=name, \n",
    "                    start_date=date.fromordinal(start_date),\n",
    "                    obsolete_date=random_day\n",
    "                   )\n",
    "    session.add(user)\n",
    "session.commit()"
   ]
  },
  {
   "cell_type": "code",
   "execution_count": 10,
   "metadata": {
    "collapsed": false
   },
   "outputs": [],
   "source": [
    "user = session.query(User).first()"
   ]
  },
  {
   "cell_type": "code",
   "execution_count": 11,
   "metadata": {
    "collapsed": false
   },
   "outputs": [
    {
     "data": {
      "text/plain": [
       "{'_sa_instance_state': <sqlalchemy.orm.state.InstanceState at 0x10cae0c50>,\n",
       " 'name': u'George Washington',\n",
       " 'obsolete_date': datetime.date(2016, 3, 31),\n",
       " 'start_date': datetime.date(2016, 1, 1),\n",
       " 'user_id': 1}"
      ]
     },
     "execution_count": 11,
     "metadata": {},
     "output_type": "execute_result"
    }
   ],
   "source": [
    "user.__dict__"
   ]
  },
  {
   "cell_type": "code",
   "execution_count": 12,
   "metadata": {
    "collapsed": false
   },
   "outputs": [],
   "source": [
    "for user in session.query(User).all():\n",
    "    for x in xrange(3):\n",
    "        fd = random.choice(session.query(FacilityDepartment).all())\n",
    "        user.fd.append(fd)\n",
    "    session.add(user)\n",
    "session.commit()"
   ]
  },
  {
   "cell_type": "code",
   "execution_count": 13,
   "metadata": {
    "collapsed": true
   },
   "outputs": [],
   "source": [
    "for user in session.query(User).all():\n",
    "    for x in xrange(3):\n",
    "        com = random.choice(session.query(Committee).all())\n",
    "        user.coms.append(com)\n",
    "    session.add(user)\n",
    "session.commit()"
   ]
  },
  {
   "cell_type": "code",
   "execution_count": 18,
   "metadata": {
    "collapsed": false
   },
   "outputs": [
    {
     "name": "stdout",
     "output_type": "stream",
     "text": [
      "2016-04-28\n",
      "SELECT users.name AS users_name, facility_departments.facility_name AS facility_departments_facility_name, facility_departments.department_name AS facility_departments_department_name \n",
      "FROM users JOIN usersfacilitydepartments ON users.user_id = usersfacilitydepartments.user_id JOIN facility_departments ON facility_departments.fd_id = usersfacilitydepartments.fd_id \n",
      "WHERE facility_departments.obsolete_date <= :obsolete_date_1 AND users.user_id = :user_id_1 GROUP BY users.name, facility_departments.facility_name, facility_departments.department_name\n",
      "(u'Zachary Taylor', u'LA', u'Bakery')\n",
      "(u'Zachary Taylor', u'LA', u'Dough Factory')\n",
      "(u'Zachary Taylor', u'NYC', u'Online')\n"
     ]
    }
   ],
   "source": [
    "random_day = date.fromordinal(random.randint(start_date, end_date))\n",
    "print random_day\n",
    "query = session.query(User.name, \n",
    "                      FacilityDepartment.facility_name, \n",
    "                      FacilityDepartment.department_name).join(\n",
    "    usersfacilitydepartments_table,\n",
    "    FacilityDepartment).filter(\n",
    "    FacilityDepartment.obsolete_date<=random_day,\n",
    "    User.user_id == user.user_id).group_by(User.name, FacilityDepartment.facility_name, FacilityDepartment.department_name)\n",
    "\n",
    "print(query)\n",
    "for result in query:\n",
    "    print result"
   ]
  },
  {
   "cell_type": "code",
   "execution_count": 19,
   "metadata": {
    "collapsed": false
   },
   "outputs": [
    {
     "name": "stdout",
     "output_type": "stream",
     "text": [
      "{'obsolete_date': datetime.date(2016, 4, 1), '_sa_instance_state': <sqlalchemy.orm.state.InstanceState object at 0x10cb86150>, 'facility_name': u'LA', 'department_name': u'Bakery', 'fd_id': 3, 'start_date': datetime.date(2016, 1, 1)}\n",
      "{'obsolete_date': datetime.date(2016, 4, 1), '_sa_instance_state': <sqlalchemy.orm.state.InstanceState object at 0x10cb860d0>, 'facility_name': u'LA', 'department_name': u'Dough Factory', 'fd_id': 4, 'start_date': datetime.date(2016, 1, 1)}\n",
      "{'obsolete_date': datetime.date(2016, 2, 7), '_sa_instance_state': <sqlalchemy.orm.state.InstanceState object at 0x10cb86e50>, 'facility_name': u'NYC', 'department_name': u'Online', 'fd_id': 38, 'start_date': datetime.date(2016, 1, 1)}\n"
     ]
    }
   ],
   "source": [
    "for x in user.fd:\n",
    "    print x.__dict__"
   ]
  },
  {
   "cell_type": "code",
   "execution_count": 20,
   "metadata": {
    "collapsed": false
   },
   "outputs": [
    {
     "data": {
      "text/plain": [
       "{'_sa_instance_state': <sqlalchemy.orm.state.InstanceState at 0x10cab0ad0>,\n",
       " 'fd': [<__main__.FacilityDepartment at 0x10cb86410>,\n",
       "  <__main__.FacilityDepartment at 0x10cb86690>,\n",
       "  <__main__.FacilityDepartment at 0x10cb86c10>],\n",
       " 'name': u'Zachary Taylor',\n",
       " 'obsolete_date': datetime.date(2016, 1, 21),\n",
       " 'start_date': datetime.date(2016, 1, 1),\n",
       " 'user_id': 12}"
      ]
     },
     "execution_count": 20,
     "metadata": {},
     "output_type": "execute_result"
    }
   ],
   "source": [
    "user.__dict__"
   ]
  },
  {
   "cell_type": "code",
   "execution_count": null,
   "metadata": {
    "collapsed": true
   },
   "outputs": [],
   "source": []
  }
 ],
 "metadata": {
  "kernelspec": {
   "display_name": "Python 2",
   "language": "python",
   "name": "python2"
  },
  "language_info": {
   "codemirror_mode": {
    "name": "ipython",
    "version": 2
   },
   "file_extension": ".py",
   "mimetype": "text/x-python",
   "name": "python",
   "nbconvert_exporter": "python",
   "pygments_lexer": "ipython2",
   "version": "2.7.11"
  }
 },
 "nbformat": 4,
 "nbformat_minor": 0
}
