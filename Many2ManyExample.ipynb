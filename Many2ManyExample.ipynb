{
 "cells": [
  {
   "cell_type": "code",
   "execution_count": 3,
   "metadata": {
    "collapsed": true
   },
   "outputs": [],
   "source": [
    "from datetime import datetime\n",
    "from sqlalchemy import (Column, Integer, Numeric, String, Table,\n",
    "                        ForeignKey, create_engine, Date) \n",
    "from sqlalchemy.orm import relationship\n",
    "from sqlalchemy.ext.declarative import declarative_base \n",
    "from sqlalchemy.orm import sessionmaker\n",
    "\n",
    "engine = create_engine('sqlite:///:memory:')\n",
    "Base = declarative_base()\n",
    "Session = sessionmaker(bind=engine)"
   ]
  },
  {
   "cell_type": "code",
   "execution_count": 4,
   "metadata": {
    "collapsed": true
   },
   "outputs": [],
   "source": [
    "usersfacilitydepartments_table = Table('usersfacilitydepartments', \n",
    "                                       Base.metadata,\n",
    "                                       Column('user_id', Integer, ForeignKey('users.user_id'), primary_key=True),\n",
    "                                       Column('fd_id', Integer, ForeignKey('facility_departments.fd_id'), primary_key=True)\n",
    "                                      )\n",
    "userscommittees_table = Table('userscommittees', \n",
    "                               Base.metadata,\n",
    "                               Column('user_id', Integer, ForeignKey('users.user_id'), primary_key=True),\n",
    "                               Column('committee_id', Integer, ForeignKey('committees.committee_id'), primary_key=True)\n",
    "                              )"
   ]
  },
  {
   "cell_type": "code",
   "execution_count": 5,
   "metadata": {
    "collapsed": false
   },
   "outputs": [],
   "source": [
    "class User(Base):\n",
    "    __tablename__ = 'users'\n",
    "    \n",
    "    user_id = Column(Integer, primary_key=True)\n",
    "    name = Column(String(255), index=True)\n",
    "    start_date = Column(Date)\n",
    "    obsolete_date = Column(Date)\n",
    "    \n",
    "    fd = relationship('FacilityDepartment', \n",
    "                      secondary=usersfacilitydepartments_table,\n",
    "                      backref='users')\n",
    "    \n",
    "    coms = relationship('Committee', \n",
    "                        secondary=userscommittees_table,\n",
    "                        backref='users')"
   ]
  },
  {
   "cell_type": "code",
   "execution_count": 6,
   "metadata": {
    "collapsed": false
   },
   "outputs": [],
   "source": [
    "class FacilityDepartment(Base):\n",
    "    __tablename__ = 'facility_departments'\n",
    "    \n",
    "    fd_id = Column(Integer, primary_key=True)\n",
    "    facility_name = Column(String(255))\n",
    "    department_name = Column(String(255))\n",
    "    start_date = Column(Date)\n",
    "    obsolete_date = Column(Date)"
   ]
  },
  {
   "cell_type": "code",
   "execution_count": 7,
   "metadata": {
    "collapsed": true
   },
   "outputs": [],
   "source": [
    "class Committee(Base):\n",
    "    __tablename__ = 'committees'\n",
    "    \n",
    "    committee_id = Column(Integer, primary_key=True)\n",
    "    name = Column(String(255))\n",
    "    start_date = Column(Date)\n",
    "    obsolete_date = Column(Date)"
   ]
  },
  {
   "cell_type": "code",
   "execution_count": 8,
   "metadata": {
    "collapsed": true
   },
   "outputs": [],
   "source": [
    "Base.metadata.create_all(engine)\n",
    "session = Session()"
   ]
  },
  {
   "cell_type": "code",
   "execution_count": 9,
   "metadata": {
    "collapsed": false
   },
   "outputs": [],
   "source": [
    "from datetime import date\n",
    "import random\n",
    "start_date = date.today().replace(day=1, month=1).toordinal()\n",
    "end_date = date.today().toordinal()\n",
    "\n",
    "facilities = {'LA': ['Bakery', 'Dough Factory'],\n",
    "              'NYC': ['Store', 'Online'],\n",
    "              'BOS': ['Bakery', 'Dough Factory'],\n",
    "              'BNA': ['Store', 'Online'],\n",
    "             }\n",
    "\n",
    "for x in xrange(20):\n",
    "    random_day = date.fromordinal(random.randint(start_date, end_date))\n",
    "    random_choice = random.choice(facilities.keys())\n",
    "    for department in facilities[random_choice]:\n",
    "        fd = FacilityDepartment(facility_name=random_choice, \n",
    "                                department_name=department,\n",
    "                                start_date=date.fromordinal(start_date),\n",
    "                                obsolete_date=random_day)\n",
    "        session.add(fd)\n",
    "session.commit()"
   ]
  },
  {
   "cell_type": "code",
   "execution_count": 10,
   "metadata": {
    "collapsed": false
   },
   "outputs": [],
   "source": [
    "committees = ['Agriculture', 'Appropriations', 'Armed Services', 'Budget']\n",
    "for committee in committees:\n",
    "    random_day = date.fromordinal(random.randint(start_date, end_date))\n",
    "    com = Committee(name=committee, \n",
    "                    start_date=date.fromordinal(start_date),\n",
    "                    obsolete_date=random_day\n",
    "                   )\n",
    "    session.add(com)\n",
    "session.commit()"
   ]
  },
  {
   "cell_type": "code",
   "execution_count": 11,
   "metadata": {
    "collapsed": true
   },
   "outputs": [],
   "source": [
    "names = ['George Washington', 'John Adams', 'Thomas Jefferson', \n",
    "         'James Madison', 'James Monroe', 'John Quincy Adams', \n",
    "         'Andrew Jackson', 'Martin Van Buren', 'William Henry Harrison',\n",
    "         'John Tyler', 'James Knox Polk', 'Zachary Taylor']\n",
    "for name in names:\n",
    "    random_day = date.fromordinal(random.randint(start_date, end_date))\n",
    "    user = User(name=name, \n",
    "                    start_date=date.fromordinal(start_date),\n",
    "                    obsolete_date=random_day\n",
    "                   )\n",
    "    session.add(user)\n",
    "session.commit()"
   ]
  },
  {
   "cell_type": "code",
   "execution_count": 12,
   "metadata": {
    "collapsed": false
   },
   "outputs": [],
   "source": [
    "user = session.query(User).first()"
   ]
  },
  {
   "cell_type": "code",
   "execution_count": 13,
   "metadata": {
    "collapsed": false
   },
   "outputs": [
    {
     "data": {
      "text/plain": [
       "{'_sa_instance_state': <sqlalchemy.orm.state.InstanceState at 0x10b28a810>,\n",
       " 'name': u'George Washington',\n",
       " 'obsolete_date': datetime.date(2016, 4, 17),\n",
       " 'start_date': datetime.date(2016, 1, 1),\n",
       " 'user_id': 1}"
      ]
     },
     "execution_count": 13,
     "metadata": {},
     "output_type": "execute_result"
    }
   ],
   "source": [
    "user.__dict__"
   ]
  },
  {
   "cell_type": "code",
   "execution_count": 14,
   "metadata": {
    "collapsed": false
   },
   "outputs": [],
   "source": [
    "for user in session.query(User).all():\n",
    "    for x in xrange(3):\n",
    "        fd = random.choice(session.query(FacilityDepartment).all())\n",
    "        user.fd.append(fd)\n",
    "    session.add(user)\n",
    "session.commit()"
   ]
  },
  {
   "cell_type": "code",
   "execution_count": 15,
   "metadata": {
    "collapsed": true
   },
   "outputs": [],
   "source": [
    "for user in session.query(User).all():\n",
    "    for x in xrange(3):\n",
    "        com = random.choice(session.query(Committee).all())\n",
    "        user.coms.append(com)\n",
    "    session.add(user)\n",
    "session.commit()"
   ]
  },
  {
   "cell_type": "code",
   "execution_count": 20,
   "metadata": {
    "collapsed": false
   },
   "outputs": [
    {
     "name": "stdout",
     "output_type": "stream",
     "text": [
      "2016-02-26\n",
      "SELECT users.name AS users_name, facility_departments.facility_name AS facility_departments_facility_name, facility_departments.department_name AS facility_departments_department_name \n",
      "FROM users JOIN usersfacilitydepartments ON users.user_id = usersfacilitydepartments.user_id JOIN facility_departments ON facility_departments.fd_id = usersfacilitydepartments.fd_id \n",
      "WHERE facility_departments.obsolete_date <= :obsolete_date_1 AND users.user_id = :user_id_1 GROUP BY users.name, facility_departments.facility_name, facility_departments.department_name\n",
      "(u'Zachary Taylor', u'BNA', u'Store')\n"
     ]
    }
   ],
   "source": [
    "random_day = date.fromordinal(random.randint(start_date, end_date))\n",
    "print random_day\n",
    "query = session.query(User.name, \n",
    "                      FacilityDepartment.facility_name, \n",
    "                      FacilityDepartment.department_name).join(\n",
    "    usersfacilitydepartments_table,\n",
    "    FacilityDepartment).filter(\n",
    "    FacilityDepartment.obsolete_date<=random_day,\n",
    "    User.user_id == user.user_id).group_by(User.name, FacilityDepartment.facility_name, FacilityDepartment.department_name)\n",
    "\n",
    "print(query)\n",
    "for result in query:\n",
    "    print result"
   ]
  },
  {
   "cell_type": "code",
   "execution_count": 21,
   "metadata": {
    "collapsed": false
   },
   "outputs": [
    {
     "name": "stdout",
     "output_type": "stream",
     "text": [
      "{'obsolete_date': datetime.date(2016, 3, 12), '_sa_instance_state': <sqlalchemy.orm.state.InstanceState object at 0x10b25c810>, 'facility_name': u'BOS', 'department_name': u'Dough Factory', 'fd_id': 20, 'start_date': datetime.date(2016, 1, 1)}\n",
      "{'obsolete_date': datetime.date(2016, 3, 29), '_sa_instance_state': <sqlalchemy.orm.state.InstanceState object at 0x10b25c410>, 'facility_name': u'LA', 'department_name': u'Bakery', 'fd_id': 21, 'start_date': datetime.date(2016, 1, 1)}\n",
      "{'obsolete_date': datetime.date(2016, 1, 31), '_sa_instance_state': <sqlalchemy.orm.state.InstanceState object at 0x10b315c10>, 'facility_name': u'BNA', 'department_name': u'Store', 'fd_id': 27, 'start_date': datetime.date(2016, 1, 1)}\n"
     ]
    }
   ],
   "source": [
    "for x in user.fd:\n",
    "    print x.__dict__"
   ]
  },
  {
   "cell_type": "code",
   "execution_count": 22,
   "metadata": {
    "collapsed": false
   },
   "outputs": [
    {
     "data": {
      "text/plain": [
       "{'_sa_instance_state': <sqlalchemy.orm.state.InstanceState at 0x10b2c4990>,\n",
       " 'fd': [<__main__.FacilityDepartment at 0x10b25cfd0>,\n",
       "  <__main__.FacilityDepartment at 0x10b25c390>,\n",
       "  <__main__.FacilityDepartment at 0x10b315cd0>],\n",
       " 'name': u'Zachary Taylor',\n",
       " 'obsolete_date': datetime.date(2016, 1, 31),\n",
       " 'start_date': datetime.date(2016, 1, 1),\n",
       " 'user_id': 12}"
      ]
     },
     "execution_count": 22,
     "metadata": {},
     "output_type": "execute_result"
    }
   ],
   "source": [
    "user.__dict__"
   ]
  },
  {
   "cell_type": "code",
   "execution_count": 24,
   "metadata": {
    "collapsed": false
   },
   "outputs": [
    {
     "name": "stdout",
     "output_type": "stream",
     "text": [
      "2016-02-26\n",
      "SELECT users.name AS users_name, facility_departments.facility_name AS facility_departments_facility_name, facility_departments.department_name AS facility_departments_department_name \n",
      "FROM users JOIN usersfacilitydepartments AS usersfacilitydepartments_1 ON users.user_id = usersfacilitydepartments_1.user_id JOIN facility_departments ON facility_departments.fd_id = usersfacilitydepartments_1.fd_id \n",
      "WHERE facility_departments.obsolete_date <= :obsolete_date_1 AND users.user_id = :user_id_1 GROUP BY users.name, facility_departments.facility_name, facility_departments.department_name\n",
      "(u'Zachary Taylor', u'BNA', u'Store')\n"
     ]
    }
   ],
   "source": [
    "print random_day\n",
    "query = session.query(User.name, \n",
    "                      FacilityDepartment.facility_name, \n",
    "                      FacilityDepartment.department_name).join(\n",
    "    User.fd).filter(\n",
    "    FacilityDepartment.obsolete_date<=random_day,\n",
    "    User.user_id == user.user_id).group_by(User.name, FacilityDepartment.facility_name, FacilityDepartment.department_name)\n",
    "\n",
    "print(query)\n",
    "for result in query:\n",
    "    print result"
   ]
  },
  {
   "cell_type": "code",
   "execution_count": null,
   "metadata": {
    "collapsed": true
   },
   "outputs": [],
   "source": []
  }
 ],
 "metadata": {
  "kernelspec": {
   "display_name": "Python 2",
   "language": "python",
   "name": "python2"
  },
  "language_info": {
   "codemirror_mode": {
    "name": "ipython",
    "version": 2
   },
   "file_extension": ".py",
   "mimetype": "text/x-python",
   "name": "python",
   "nbconvert_exporter": "python",
   "pygments_lexer": "ipython2",
   "version": "2.7.11"
  }
 },
 "nbformat": 4,
 "nbformat_minor": 0
}
